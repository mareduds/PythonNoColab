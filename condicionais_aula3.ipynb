{
  "nbformat": 4,
  "nbformat_minor": 0,
  "metadata": {
    "colab": {
      "name": "condicionais-aula3",
      "provenance": [],
      "authorship_tag": "ABX9TyMjFHuNqOy0d1QOATNwSK69",
      "include_colab_link": true
    },
    "kernelspec": {
      "name": "python3",
      "display_name": "Python 3"
    },
    "language_info": {
      "name": "python"
    }
  },
  "cells": [
    {
      "cell_type": "markdown",
      "metadata": {
        "id": "view-in-github",
        "colab_type": "text"
      },
      "source": [
        "<a href=\"https://colab.research.google.com/github/mareduds/PythonNoColab/blob/main/condicionais_aula3.ipynb\" target=\"_parent\"><img src=\"https://colab.research.google.com/assets/colab-badge.svg\" alt=\"Open In Colab\"/></a>"
      ]
    },
    {
      "cell_type": "markdown",
      "metadata": {
        "id": "cxxA13elUHS0"
      },
      "source": [
        "CONDICIONAL SIMPLES:\n",
        "Desenvolva um programa que lê dois valores numéricos inteiros e compara se o primeiro é maior do que o segundo, utilizando uma condicional simples\n",
        "\n",
        "- Caso seja (resultado verdadeiro), ele imprime na tela a mensagem informando que o primeiro valor digitado é maior do que o segundo"
      ]
    },
    {
      "cell_type": "code",
      "metadata": {
        "colab": {
          "base_uri": "https://localhost:8080/"
        },
        "id": "dn82vSsQUKwN",
        "outputId": "1cb6b9dd-7eaf-4277-a53f-0b1c9412daa1"
      },
      "source": [
        "x=int(input('Digite um valor inteiro: '))\n",
        "y=int(input('Digite um segundo valor inteiro: '))\n",
        "if( x>y ):\n",
        "  print('O primeiro valor é maior que o segundo')\n",
        "else:\n",
        "    print(O segundo valor é maior que o primeiro')"
      ],
      "execution_count": null,
      "outputs": [
        {
          "output_type": "stream",
          "text": [
            "digite um valor inteiro: 3\n",
            "digite um segundo valor inteiro: 9\n",
            "o segundo valor é maior que o primeiro\n"
          ],
          "name": "stdout"
        }
      ]
    },
    {
      "cell_type": "markdown",
      "metadata": {
        "id": "xbJB8ngwWsE4"
      },
      "source": [
        "# CONDICIONAL COMPOSTA- condicional do par ou impar:"
      ]
    },
    {
      "cell_type": "code",
      "metadata": {
        "colab": {
          "base_uri": "https://localhost:8080/"
        },
        "id": "9iTAG7ewWuR-",
        "outputId": "b9b0dd8b-4394-436e-cb36-6bbd14c77b43"
      },
      "source": [
        "#Diz se o número inteiro é par ou impar\n",
        "x=int(input('Digite um valor inteiro: '))\n",
        "if (x % 2 == 0):\n",
        "  print('Esse número é par')\n",
        "else:\n",
        "  print('Esse número é impar')"
      ],
      "execution_count": null,
      "outputs": [
        {
          "output_type": "stream",
          "text": [
            "Digite um valor inteiro: 65\n",
            "Esse número é impar\n"
          ],
          "name": "stdout"
        }
      ]
    },
    {
      "cell_type": "markdown",
      "metadata": {
        "id": "u3iwbU4fYWDE"
      },
      "source": [
        "Operadores lógicos Booleanos:"
      ]
    },
    {
      "cell_type": "code",
      "metadata": {
        "colab": {
          "base_uri": "https://localhost:8080/"
        },
        "id": "Ah4RldTVbd13",
        "outputId": "96c2ce5f-59a2-401d-fc06-1f1859708aca"
      },
      "source": [
        "#not\n",
        "x=True\n",
        "y=False\n",
        "print(not x)\n",
        "print(not y)"
      ],
      "execution_count": null,
      "outputs": [
        {
          "output_type": "stream",
          "text": [
            "False\n",
            "True\n"
          ],
          "name": "stdout"
        }
      ]
    },
    {
      "cell_type": "code",
      "metadata": {
        "colab": {
          "base_uri": "https://localhost:8080/"
        },
        "id": "-zpJnIk3cW-z",
        "outputId": "bf8879e8-8f88-4ba4-d8f0-b2430001f215"
      },
      "source": [
        "#and\n",
        "x=True\n",
        "y=False\n",
        "print(x and y)"
      ],
      "execution_count": null,
      "outputs": [
        {
          "output_type": "stream",
          "text": [
            "False\n"
          ],
          "name": "stdout"
        }
      ]
    },
    {
      "cell_type": "code",
      "metadata": {
        "colab": {
          "base_uri": "https://localhost:8080/"
        },
        "id": "nSlbqbPPcl_t",
        "outputId": "b2587023-40f7-4048-81a3-c8c3de9ef0e9"
      },
      "source": [
        "#or\n",
        "x=True\n",
        "y=False\n",
        "print(x or y)"
      ],
      "execution_count": null,
      "outputs": [
        {
          "output_type": "stream",
          "text": [
            "True\n"
          ],
          "name": "stdout"
        }
      ]
    },
    {
      "cell_type": "markdown",
      "metadata": {
        "id": "cNtYb34TfLKG"
      },
      "source": [
        "Exercício\n",
        "\n",
        "- Um aluno, para passar de ano, precisa ser aprovado em todas as matérias que está cursando\n",
        "\n",
        "- Assuma que a média para aprovação é a partir de 7 em cada matéria, e que o aluno cursa 3 matérias, somente. Escreva um algoritmo que leia a nota final do aluno em cada matéria e informe, na tela, se ele passou de ano ou não"
      ]
    },
    {
      "cell_type": "code",
      "metadata": {
        "colab": {
          "base_uri": "https://localhost:8080/"
        },
        "id": "PTR3mLCUfMAJ",
        "outputId": "13a7c261-f153-435e-b840-2822f14b8d37"
      },
      "source": [
        "x=float(input('Nota do aluno na disciplina 1: '))\n",
        "y=float(input('Nota do aluno na disciplina 2: '))\n",
        "z=float(input('Nota do aluno na disciplina 3: '))\n",
        "if x>= 7 and y>=7 and z>=7:\n",
        "  print('Parabéns, você foi aprovado! :)')\n",
        "else:\n",
        "  print('Infelizmente você foi reprovado :(')"
      ],
      "execution_count": null,
      "outputs": [
        {
          "output_type": "stream",
          "text": [
            "Nota do aluno na disciplina 1: 9.4\n",
            "Nota do aluno na disciplina 2: 7.1\n",
            "Nota do aluno na disciplina 3: 8\n",
            "Parabéns, você foi aprovado! :)\n"
          ],
          "name": "stdout"
        }
      ]
    },
    {
      "cell_type": "markdown",
      "metadata": {
        "id": "_hy72CkXO1EA"
      },
      "source": [
        "- Escreva um algoritmo em Python em que o usuário escolhe se quer comprar maçãs, laranjas ou bananas. Deverá ser apresentado na tela um menu com as opções: 1 para maçã, 2 para laranja e 3 para banana\n",
        "- Após escolhida a fruta, deve-se digitar quantas unidades se quer comprar. O algoritmo deve calcular o preço total a pagar do produto escolhido e mostrá-lo na tela\n",
        "\n",
        "- Considere que uma maçã custa R$ 2,30, uma laranja, R$ 3,60, e uma banana, R$ 1,85"
      ]
    },
    {
      "cell_type": "code",
      "metadata": {
        "id": "H1EaSIMOVpx5"
      },
      "source": [
        "x=1 #maçã\n",
        "y=2 #laranja\n",
        "z=3 #banana\n",
        "tipo=int(input(Qual fruta você deseja? ))\n",
        "unidades=int(input(Quantas unidades dessa fruta você deseja? ))"
      ],
      "execution_count": null,
      "outputs": []
    }
  ]
}