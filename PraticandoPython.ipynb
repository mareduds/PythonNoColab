{
  "nbformat": 4,
  "nbformat_minor": 0,
  "metadata": {
    "colab": {
      "name": "PraticandoPython",
      "provenance": [],
      "authorship_tag": "ABX9TyOvpyvicZI7hG4ojLKe+hYD",
      "include_colab_link": true
    },
    "kernelspec": {
      "name": "python3",
      "display_name": "Python 3"
    },
    "language_info": {
      "name": "python"
    }
  },
  "cells": [
    {
      "cell_type": "markdown",
      "metadata": {
        "id": "view-in-github",
        "colab_type": "text"
      },
      "source": [
        "<a href=\"https://colab.research.google.com/github/mareduds/PythonNoColab/blob/main/PraticandoPython.ipynb\" target=\"_parent\"><img src=\"https://colab.research.google.com/assets/colab-badge.svg\" alt=\"Open In Colab\"/></a>"
      ]
    },
    {
      "cell_type": "markdown",
      "metadata": {
        "id": "Z-VLRrBBybSp"
      },
      "source": [
        ""
      ]
    },
    {
      "cell_type": "markdown",
      "metadata": {
        "id": "I-UYFJuqznbG"
      },
      "source": [
        "Escreva um programa que leia o nome de um aluno e sua nota final. Em seguida,  informe o conceito conforme a tabela abaixo. A saída do programa deve exibir na tela uma  frase com o padrão descrito a seguir:  \n",
        "Nome do aluno: Fábio José \n",
        "Nota final: 73.4  \n",
        "Todos os dados devem ser lidos do teclado, sendo que o nome do aluno é uma string  e a nota final é um número real. Não é necessário armazenar os dados em uma estrutura  de dados, basta imprimir na tela.  \n",
        "Coloque todo o seu programa dentro de um laço de repetição e faça-o se encerrar  quando uma determinada condição for satisfeita. A condição fica a seu critério, como por  exemplo, encerrar o programa ao digitar a palavra sair, ou então uma nota inválida.  \n",
        "Imprima na tela um teste do seu programa utilizando o seu nome e os dois últimos  dígitos do seu RU para a nota. \n"
      ]
    },
    {
      "cell_type": "code",
      "metadata": {
        "colab": {
          "base_uri": "https://localhost:8080/"
        },
        "id": "dFWeU7v7ypwY",
        "outputId": "4ff73d80-be77-479f-c790-ac89a2086369"
      },
      "source": [
        "flag=True #cria uma flag e define seu valor como sendo True, para ser usada posteriormente\n",
        " \n",
        "while flag: #faz uso da flag para criar o loop; Equanto o resultado der True (verdadeiro), o loop continuará\n",
        "  nome=input('escreva seu nome: ') #cria a variável nome e solicita a inclusão dela por parte do usuário\n",
        "  if (nome=='sair'): \n",
        "    flag=False#indica que se o usuário responder \"sair\" como nome, a flag terá como resultado \"False\", portanto, saindo do loop\n",
        "    print('O programa foi encerrado.') #printa na tela a string O programa foi encerrado.\n",
        "  else: #indica que se o nome do aluno não for \"sair\", deve-se executar o bloco de código aqui indentado\n",
        "    nota=float(input('escreva sua nota: '))#cria a variável nota, que recebe como valores números reais e solicita a inclusão de seu valor pelo usuário.\n",
        "    if (nota<=2.9): #se o valor incluso em \"nota\" for menor ou igual a 2.9 esse bloco de código será executado \n",
        "      conceito= (\"E\")#informa que se a nota for menor ou igual a 2.9 o conceito = E\n",
        "    else: #caso a nota NÃO seja menor ou igual a 2.9, o bloco de código acima será ignorado, e esta nova condição será verificada\n",
        "        if (nota<=4.9):#se o valor incluso em \"nota\" for menor ou igual a 4.9 esse bloco de código será executado \n",
        "          conceito= (\"D\")#informa que se a nota for menor ou igual a 4.9 o conceito = D\n",
        "        else:#caso a nota NÃO seja menor ou igual a 4.9, o bloco de código acima será ignorado, e esta nova condição será verificada\n",
        "          if (nota<=6.9):#se o valor incluso em \"nota\" for menor ou igual a 6.9 esse bloco de código será executado \n",
        "            conceito=(\"C\")#informa que se a nota for menor ou igual a 6.9 o conceito = C\n",
        "          else:#caso a nota NÃO seja menor ou igual a 6.9, o bloco de código acima será ignorado, e esta nova condição será verificada\n",
        "              if (nota<=8.9):#se o valor incluso em \"nota\" for menor ou igual a 8.9 esse bloco de código será executado \n",
        "                conceito= ('B')#informa que se a nota for menor ou igual a 8.9 o conceito = B\n",
        "              else:#caso a nota NÃO seja menor ou igual a 8.9, o bloco de código acima será ignorado, e esta nova condição será verificada\n",
        "                if (nota<=10):#se o valor incluso em \"nota\" for menor ou igual a 10 esse bloco de código será executado \n",
        "                  conceito= ('A')#informa que se a nota for menor ou igual a 10 o conceito = A\n",
        "    print('o aluno {} tirou nota {} e se enquadra no conceito {}'.format(nome, nota, conceito)) #print dos resultados"
      ],
      "execution_count": null,
      "outputs": [
        {
          "output_type": "stream",
          "name": "stdout",
          "text": [
            "escreva seu nome: maria\n",
            "escreva sua nota: 5\n",
            "o aluno maria tirou nota 5.0 e se enquadra no conceito C\n"
          ]
        }
      ]
    },
    {
      "cell_type": "markdown",
      "metadata": {
        "id": "M0y6tMiGy8lI"
      },
      "source": [
        "Faça uma função que receba o nome e sobrenome de uma pessoa e retorne a  primeira letra de seu nome e seu sobrenome concatenando com a string @algoritmos.com.br. No algoritmo principal deverá ser apresentada a mensagem  ao usuário contendo seu nome completo e seu email. \n",
        "Imprima na tela um teste do seu programa utilizando o seu nome e sobrenome  concatenado com os dois últimos dígitos do seu RU. \n",
        "Sra Luciane Kanashiro, seu email é lkanashiro16@algoritmos.com.br \n",
        "\n"
      ]
    },
    {
      "cell_type": "code",
      "metadata": {
        "colab": {
          "base_uri": "https://localhost:8080/"
        },
        "id": "raiJROfty9m3",
        "outputId": "a350129e-2b51-49de-dfca-bb49fe899593"
      },
      "source": [
        "x= input(\"Digite seu nome: \") #cria a variável x e abre espaço para o recebimento de seu valor\n",
        "y= input('Digite seu sobrenome: ') #cria a variável y e abre espaço para o recebimento de seu valor\n",
        "z= input('Quais são seus dois últimos dígitos do RU? ') #cria a variável z e abre espaço para o recebimento de seu valor\n",
        "texto=(x[0]+y+z+'@algoritmos.com.br') #cria a variável \"texto\" e atribui para ela como valor a concatenação dos valores recebidos pelas variáveis y e z com o primeiro dígito de x e a string \"@algoritmos.com.br\"\n",
        "texto= texto.lower() #e define que seus valores serão escritos em letras minúsculas\n",
        "print(texto) #printa o valor de texto"
      ],
      "execution_count": 2,
      "outputs": [
        {
          "output_type": "stream",
          "name": "stdout",
          "text": [
            "Digite seu nome: maria\n",
            "Digite seu sobrenome: souza\n",
            "Quais são seus dois últimos dígitos do RU? 54\n",
            "msouza54@algoritmos.com.br\n"
          ]
        }
      ]
    },
    {
      "cell_type": "markdown",
      "metadata": {
        "id": "qPl8XjK3wxWu"
      },
      "source": [
        "Exercício 3:\n",
        "Um canal de jogos do youtube está fazendo um sorteio para angariar doações para\n",
        "pessoas em situação de vulnerabilidade social. A cada 10,00 doado o nome da\n",
        "pessoa é inserido em uma lista de sorteio, por exemplo:\n",
        "Ruth doou 20,00;\n",
        "Maria doou 30,00;\n",
        "Fernando doou 50,00;\n",
        "A lista de sorteio estará com os valores:\n",
        "listaSorteio = [‘Ruth’, ‘Ruth’, ’Maria’, ’Maria’, ’Maria’, ’Fernando’, ’Fernando’,\n",
        "’Fernando’, ’Fernando’, ’Fernando’]\n",
        "\n",
        "Implemente um programa para cadastrar o nome das pessoas que doaram. O\n",
        "programa deve embaralhar a lista, sortear o ganhador e imprimir o seu nome.\n",
        "Imprima na tela um teste do seu programa utilizando como primeiro doador o seu\n",
        "nome e os dois últimos dígitos do seu RU para o valor doado. Não se esqueça de\n",
        "imprimir também a lista de sorteio.\n",
        "\n",
        "Dica do Professor:\n",
        "Utilize o método random.shuffle para embaralhar a lista;\n",
        "Utilize método random.choice para sortear aleatoriamente um elemento."
      ]
    },
    {
      "cell_type": "code",
      "metadata": {
        "colab": {
          "base_uri": "https://localhost:8080/"
        },
        "id": "Ckn9FRHc7GGv",
        "outputId": "d33b5ddc-5d91-4e53-8421-de2fff8a1599"
      },
      "source": [
        "import random #importa a biblioteca random para fazer uso, no programa, das funções choice e shuffle\n",
        " \n",
        "listaSorteio = [] #inicia a lista para a inclusão dos itens \n",
        "flag = True #cria a flag true que será usada posteriormente \n",
        " \n",
        "while flag: #faz uso da flag, indicando que enquanto ela for verdadeira haverá a repetição do bloco aqui indentado\n",
        " \n",
        "    doador: str = input(\"Por favor, digite o nome do doador (digite <<encerrar>> quando não tiver mais nenhum doador para ser adicionado): \")#recebe a string com o nome do doador\n",
        "    if doador == \"encerrar\": \n",
        "        flag = False #se digitarem como nome do doador a palavra \"encerrar\", a flag será como resultado \"false\" e lista irar parar de receber itens\n",
        "    if doador != \"encerrar\": #se digitarem como nome do doador qualquer string diferente de \"encerrar\", o programa irá solicitar o valor doado pelo doador\n",
        "        valor_doado: int = int(input(\"Por favor, digite o valor doado por {}: \".format(doador)))\n",
        "        for item in range(valor_doado // 10):#divide o valor doado por 10, para definir o numero de vezes que o nome do doador aparecerá na lista\n",
        "          listaSorteio.append(doador) #inclui o nome do doador na lista, repetindo-o no numero de vezes previamente definido\n",
        "  \n",
        "print(listaSorteio) #printa na tela a lista do sorteio antes de ser embaralhada\n",
        "random.shuffle(listaSorteio) #embraralha a lista\n",
        " \n",
        "sorteado = random.choice(listaSorteio) #usa escolher um item da lista\n",
        "print(listaSorteio) #printa na tela a lista inteira do sorteio, já embaralhada\n",
        "print(\"O participante selecionado foi {}!!\".format(sorteado)) #printa o item da lista selecionado"
      ],
      "execution_count": 3,
      "outputs": [
        {
          "output_type": "stream",
          "name": "stdout",
          "text": [
            "Por favor, digite o nome do doador (digite <<encerrar>> quando não tiver mais nenhum doador para ser adicionado): maria\n",
            "Por favor, digite o valor doado por maria: 20\n",
            "Por favor, digite o nome do doador (digite <<encerrar>> quando não tiver mais nenhum doador para ser adicionado): luana\n",
            "Por favor, digite o valor doado por luana: 0\n",
            "Por favor, digite o nome do doador (digite <<encerrar>> quando não tiver mais nenhum doador para ser adicionado): joao\n",
            "Por favor, digite o valor doado por joao: 50\n",
            "Por favor, digite o nome do doador (digite <<encerrar>> quando não tiver mais nenhum doador para ser adicionado): renato\n",
            "Por favor, digite o valor doado por renato: 10\n",
            "Por favor, digite o nome do doador (digite <<encerrar>> quando não tiver mais nenhum doador para ser adicionado): encerrar\n",
            "['maria', 'maria', 'joao', 'joao', 'joao', 'joao', 'joao', 'renato']\n",
            "['maria', 'maria', 'joao', 'joao', 'joao', 'renato', 'joao', 'joao']\n",
            "O participante selecionado foi joao!!\n"
          ]
        }
      ]
    }
  ]
}